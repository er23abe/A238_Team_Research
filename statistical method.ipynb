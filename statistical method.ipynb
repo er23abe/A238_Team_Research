import pandas as pd
import matplotlib.pyplot as plt
import seaborn as sns
from scipy.stats import shapiro

# Load the dataset
file_path = '/content/london-borough-profiles-2016 Data set.csv'  # Update with your file path
data = pd.read_csv(file_path)

# Filter out rows with missing or invalid data
data = data.dropna(subset=['Population density (per hectare) 2016', 'Median House Price, 2014'])

# Create histograms for both variables
plt.figure(figsize=(14, 6))

# Histogram for Population Density
plt.subplot(1, 2, 1)
sns.histplot(data['Population density (per hectare) 2016'], kde=True, color='blue')
plt.title('Histogram of Population Density (per hectare) 2016')
plt.xlabel('Population Density (per hectare) 2016')
plt.ylabel('Frequency')

# Histogram for Median House Price
plt.subplot(1, 2, 2)
sns.histplot(data['Median House Price, 2014'], kde=True, color='green')
plt.title('Histogram of Median House Price, 2014')
plt.xlabel('Median House Price, 2014')
plt.ylabel('Frequency')

# Show the plots
plt.tight_layout()
plt.show()

# Perform Shapiro-Wilk test for normality
def shapiro_test(data, variable):
    stat, p = shapiro(data[variable])
    print(f"Shapiro-Wilk test for {variable}:")
    print(f"Statistic = {stat}, p-value = {p}")
    if p > 0.05:
        print(f"The {variable} data looks Gaussian (fail to reject H0)\n")
    else:
        print(f"The {variable} data does not look Gaussian (reject H0)\n")

shapiro_test(data, 'Population density (per hectare) 2016')
shapiro_test(data, 'Median House Price, 2014')